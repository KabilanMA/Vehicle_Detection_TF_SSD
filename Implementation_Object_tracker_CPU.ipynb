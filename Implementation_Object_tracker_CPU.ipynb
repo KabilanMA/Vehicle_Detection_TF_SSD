{
 "cells": [
  {
   "cell_type": "markdown",
   "metadata": {
    "id": "t2sRosoUPC4P"
   },
   "source": [
    "Before we begin, we need to install all the requirements"
   ]
  },
  {
   "cell_type": "code",
   "execution_count": 1,
   "metadata": {
    "colab": {
     "base_uri": "https://localhost:8080/",
     "height": 1000
    },
    "executionInfo": {
     "elapsed": 49740,
     "status": "ok",
     "timestamp": 1602300032082,
     "user": {
      "displayName": "orlin cury",
      "photoUrl": "https://lh3.googleusercontent.com/a-/AOh14GhEPutCVT53jKEChAkeVRi3cHs3kzJwLSboiQwAI9U=s64",
      "userId": "09148900503409813695"
     },
     "user_tz": 240
    },
    "id": "_WLjTlzE79IS",
    "outputId": "cd5cd51d-822e-4292-be49-1f801c686a10"
   },
   "outputs": [
    {
     "name": "stdout",
     "output_type": "stream",
     "text": [
      "Collecting tensorflow==2.0.1\n",
      "  Downloading tensorflow-2.0.1-cp36-cp36m-win_amd64.whl (48.1 MB)\n",
      "Requirement already satisfied: numpy==1.19.5 in c:\\users\\kabil\\anaconda3\\envs\\py36\\lib\\site-packages (from -r requirements.txt (line 2)) (1.19.5)\n",
      "Collecting opencv-python==4.1.1.26\n",
      "  Downloading opencv_python-4.1.1.26-cp36-cp36m-win_amd64.whl (39.0 MB)\n",
      "Collecting lxml\n",
      "  Downloading lxml-4.9.0-cp36-cp36m-win_amd64.whl (3.7 MB)\n",
      "Collecting tqdm\n",
      "  Downloading tqdm-4.64.0-py2.py3-none-any.whl (78 kB)\n",
      "Collecting seaborn\n",
      "  Using cached seaborn-0.11.2-py3-none-any.whl (292 kB)\n",
      "Requirement already satisfied: pillow in c:\\users\\kabil\\anaconda3\\envs\\py36\\lib\\site-packages (from -r requirements.txt (line 7)) (8.4.0)\n",
      "Collecting astor>=0.6.0\n",
      "  Downloading astor-0.8.1-py2.py3-none-any.whl (27 kB)\n",
      "Collecting tensorflow-estimator<2.1.0,>=2.0.0\n",
      "  Downloading tensorflow_estimator-2.0.1-py2.py3-none-any.whl (449 kB)\n",
      "Requirement already satisfied: six>=1.10.0 in c:\\users\\kabil\\anaconda3\\envs\\py36\\lib\\site-packages (from tensorflow==2.0.1->-r requirements.txt (line 1)) (1.15.0)\n",
      "Requirement already satisfied: protobuf>=3.6.1 in c:\\users\\kabil\\anaconda3\\envs\\py36\\lib\\site-packages (from tensorflow==2.0.1->-r requirements.txt (line 1)) (3.19.4)\n",
      "Collecting keras-applications>=1.0.8\n",
      "  Downloading Keras_Applications-1.0.8-py3-none-any.whl (50 kB)\n",
      "Requirement already satisfied: opt-einsum>=2.3.2 in c:\\users\\kabil\\anaconda3\\envs\\py36\\lib\\site-packages (from tensorflow==2.0.1->-r requirements.txt (line 1)) (3.3.0)\n",
      "Requirement already satisfied: wheel>=0.26 in c:\\users\\kabil\\anaconda3\\envs\\py36\\lib\\site-packages (from tensorflow==2.0.1->-r requirements.txt (line 1)) (0.37.1)\n",
      "Requirement already satisfied: termcolor>=1.1.0 in c:\\users\\kabil\\anaconda3\\envs\\py36\\lib\\site-packages (from tensorflow==2.0.1->-r requirements.txt (line 1)) (1.1.0)\n",
      "Collecting tensorboard<2.1.0,>=2.0.0\n",
      "  Downloading tensorboard-2.0.2-py3-none-any.whl (3.8 MB)\n",
      "Requirement already satisfied: keras-preprocessing>=1.0.5 in c:\\users\\kabil\\anaconda3\\envs\\py36\\lib\\site-packages (from tensorflow==2.0.1->-r requirements.txt (line 1)) (1.1.2)\n",
      "Requirement already satisfied: grpcio>=1.8.6 in c:\\users\\kabil\\anaconda3\\envs\\py36\\lib\\site-packages (from tensorflow==2.0.1->-r requirements.txt (line 1)) (1.46.3)\n",
      "Requirement already satisfied: absl-py>=0.7.0 in c:\\users\\kabil\\anaconda3\\envs\\py36\\lib\\site-packages (from tensorflow==2.0.1->-r requirements.txt (line 1)) (0.15.0)\n",
      "Collecting gast==0.2.2\n",
      "  Downloading gast-0.2.2.tar.gz (10 kB)\n",
      "Requirement already satisfied: google-pasta>=0.1.6 in c:\\users\\kabil\\anaconda3\\envs\\py36\\lib\\site-packages (from tensorflow==2.0.1->-r requirements.txt (line 1)) (0.2.0)\n",
      "Requirement already satisfied: wrapt>=1.11.1 in c:\\users\\kabil\\anaconda3\\envs\\py36\\lib\\site-packages (from tensorflow==2.0.1->-r requirements.txt (line 1)) (1.12.1)\n",
      "Collecting importlib-resources\n",
      "  Downloading importlib_resources-5.4.0-py3-none-any.whl (28 kB)\n",
      "Collecting colorama\n",
      "  Using cached colorama-0.4.4-py2.py3-none-any.whl (16 kB)\n",
      "Collecting matplotlib>=2.2\n",
      "  Downloading matplotlib-3.3.4-cp36-cp36m-win_amd64.whl (8.5 MB)\n",
      "Requirement already satisfied: pandas>=0.23 in c:\\users\\kabil\\anaconda3\\envs\\py36\\lib\\site-packages (from seaborn->-r requirements.txt (line 6)) (1.1.5)\n",
      "Collecting scipy>=1.0\n",
      "  Downloading scipy-1.5.4-cp36-cp36m-win_amd64.whl (31.2 MB)\n",
      "Requirement already satisfied: h5py in c:\\users\\kabil\\anaconda3\\envs\\py36\\lib\\site-packages (from keras-applications>=1.0.8->tensorflow==2.0.1->-r requirements.txt (line 1)) (3.1.0)\n",
      "Collecting kiwisolver>=1.0.1\n",
      "  Downloading kiwisolver-1.3.1-cp36-cp36m-win_amd64.whl (51 kB)\n",
      "Collecting cycler>=0.10\n",
      "  Using cached cycler-0.11.0-py3-none-any.whl (6.4 kB)\n",
      "Requirement already satisfied: python-dateutil>=2.1 in c:\\users\\kabil\\anaconda3\\envs\\py36\\lib\\site-packages (from matplotlib>=2.2->seaborn->-r requirements.txt (line 6)) (2.8.2)\n",
      "Collecting pyparsing!=2.0.4,!=2.1.2,!=2.1.6,>=2.0.3\n",
      "  Downloading pyparsing-3.0.9-py3-none-any.whl (98 kB)\n",
      "Requirement already satisfied: pytz>=2017.2 in c:\\users\\kabil\\anaconda3\\envs\\py36\\lib\\site-packages (from pandas>=0.23->seaborn->-r requirements.txt (line 6)) (2022.1)\n",
      "Requirement already satisfied: google-auth<2,>=1.6.3 in c:\\users\\kabil\\anaconda3\\envs\\py36\\lib\\site-packages (from tensorboard<2.1.0,>=2.0.0->tensorflow==2.0.1->-r requirements.txt (line 1)) (1.35.0)\n",
      "Requirement already satisfied: werkzeug>=0.11.15 in c:\\users\\kabil\\anaconda3\\envs\\py36\\lib\\site-packages (from tensorboard<2.1.0,>=2.0.0->tensorflow==2.0.1->-r requirements.txt (line 1)) (2.0.3)\n",
      "Requirement already satisfied: requests<3,>=2.21.0 in c:\\users\\kabil\\anaconda3\\envs\\py36\\lib\\site-packages (from tensorboard<2.1.0,>=2.0.0->tensorflow==2.0.1->-r requirements.txt (line 1)) (2.27.1)\n",
      "Requirement already satisfied: markdown>=2.6.8 in c:\\users\\kabil\\anaconda3\\envs\\py36\\lib\\site-packages (from tensorboard<2.1.0,>=2.0.0->tensorflow==2.0.1->-r requirements.txt (line 1)) (3.3.7)\n",
      "Requirement already satisfied: setuptools>=41.0.0 in c:\\users\\kabil\\anaconda3\\envs\\py36\\lib\\site-packages (from tensorboard<2.1.0,>=2.0.0->tensorflow==2.0.1->-r requirements.txt (line 1)) (58.0.4)\n",
      "Requirement already satisfied: google-auth-oauthlib<0.5,>=0.4.1 in c:\\users\\kabil\\anaconda3\\envs\\py36\\lib\\site-packages (from tensorboard<2.1.0,>=2.0.0->tensorflow==2.0.1->-r requirements.txt (line 1)) (0.4.6)\n",
      "Requirement already satisfied: rsa<5,>=3.1.4 in c:\\users\\kabil\\anaconda3\\envs\\py36\\lib\\site-packages (from google-auth<2,>=1.6.3->tensorboard<2.1.0,>=2.0.0->tensorflow==2.0.1->-r requirements.txt (line 1)) (4.8)\n",
      "Requirement already satisfied: pyasn1-modules>=0.2.1 in c:\\users\\kabil\\anaconda3\\envs\\py36\\lib\\site-packages (from google-auth<2,>=1.6.3->tensorboard<2.1.0,>=2.0.0->tensorflow==2.0.1->-r requirements.txt (line 1)) (0.2.8)\n",
      "Requirement already satisfied: cachetools<5.0,>=2.0.0 in c:\\users\\kabil\\anaconda3\\envs\\py36\\lib\\site-packages (from google-auth<2,>=1.6.3->tensorboard<2.1.0,>=2.0.0->tensorflow==2.0.1->-r requirements.txt (line 1)) (4.2.4)\n",
      "Requirement already satisfied: requests-oauthlib>=0.7.0 in c:\\users\\kabil\\anaconda3\\envs\\py36\\lib\\site-packages (from google-auth-oauthlib<0.5,>=0.4.1->tensorboard<2.1.0,>=2.0.0->tensorflow==2.0.1->-r requirements.txt (line 1)) (1.3.1)\n",
      "Requirement already satisfied: importlib-metadata>=4.4 in c:\\users\\kabil\\anaconda3\\envs\\py36\\lib\\site-packages (from markdown>=2.6.8->tensorboard<2.1.0,>=2.0.0->tensorflow==2.0.1->-r requirements.txt (line 1)) (4.8.3)\n",
      "Requirement already satisfied: typing-extensions>=3.6.4 in c:\\users\\kabil\\anaconda3\\envs\\py36\\lib\\site-packages (from importlib-metadata>=4.4->markdown>=2.6.8->tensorboard<2.1.0,>=2.0.0->tensorflow==2.0.1->-r requirements.txt (line 1)) (3.7.4.3)\n",
      "Requirement already satisfied: zipp>=0.5 in c:\\users\\kabil\\anaconda3\\envs\\py36\\lib\\site-packages (from importlib-metadata>=4.4->markdown>=2.6.8->tensorboard<2.1.0,>=2.0.0->tensorflow==2.0.1->-r requirements.txt (line 1)) (3.6.0)\n",
      "Requirement already satisfied: pyasn1<0.5.0,>=0.4.6 in c:\\users\\kabil\\anaconda3\\envs\\py36\\lib\\site-packages (from pyasn1-modules>=0.2.1->google-auth<2,>=1.6.3->tensorboard<2.1.0,>=2.0.0->tensorflow==2.0.1->-r requirements.txt (line 1)) (0.4.8)\n",
      "Requirement already satisfied: charset-normalizer~=2.0.0 in c:\\users\\kabil\\anaconda3\\envs\\py36\\lib\\site-packages (from requests<3,>=2.21.0->tensorboard<2.1.0,>=2.0.0->tensorflow==2.0.1->-r requirements.txt (line 1)) (2.0.12)\n",
      "Requirement already satisfied: urllib3<1.27,>=1.21.1 in c:\\users\\kabil\\anaconda3\\envs\\py36\\lib\\site-packages (from requests<3,>=2.21.0->tensorboard<2.1.0,>=2.0.0->tensorflow==2.0.1->-r requirements.txt (line 1)) (1.26.9)\n",
      "Requirement already satisfied: idna<4,>=2.5 in c:\\users\\kabil\\anaconda3\\envs\\py36\\lib\\site-packages (from requests<3,>=2.21.0->tensorboard<2.1.0,>=2.0.0->tensorflow==2.0.1->-r requirements.txt (line 1)) (3.3)\n",
      "Requirement already satisfied: certifi>=2017.4.17 in c:\\users\\kabil\\anaconda3\\envs\\py36\\lib\\site-packages (from requests<3,>=2.21.0->tensorboard<2.1.0,>=2.0.0->tensorflow==2.0.1->-r requirements.txt (line 1)) (2021.5.30)\n",
      "Requirement already satisfied: oauthlib>=3.0.0 in c:\\users\\kabil\\anaconda3\\envs\\py36\\lib\\site-packages (from requests-oauthlib>=0.7.0->google-auth-oauthlib<0.5,>=0.4.1->tensorboard<2.1.0,>=2.0.0->tensorflow==2.0.1->-r requirements.txt (line 1)) (3.2.0)\n",
      "Requirement already satisfied: dataclasses in c:\\users\\kabil\\anaconda3\\envs\\py36\\lib\\site-packages (from werkzeug>=0.11.15->tensorboard<2.1.0,>=2.0.0->tensorflow==2.0.1->-r requirements.txt (line 1)) (0.8)\n",
      "Requirement already satisfied: cached-property in c:\\users\\kabil\\anaconda3\\envs\\py36\\lib\\site-packages (from h5py->keras-applications>=1.0.8->tensorflow==2.0.1->-r requirements.txt (line 1)) (1.5.2)\n",
      "Building wheels for collected packages: gast\n",
      "  Building wheel for gast (setup.py): started\n",
      "  Building wheel for gast (setup.py): finished with status 'done'\n",
      "  Created wheel for gast: filename=gast-0.2.2-py3-none-any.whl size=7554 sha256=8bd7ca2136aa764b0410bfcf97ec449a9f6da9c71e55efe691501ecc397a2f3e\n",
      "  Stored in directory: c:\\users\\kabil\\appdata\\local\\pip\\cache\\wheels\\19\\a7\\b9\\0740c7a3a7d1d348f04823339274b90de25fbcd217b2ee1fbe\n",
      "Successfully built gast\n",
      "Installing collected packages: pyparsing, kiwisolver, cycler, tensorflow-estimator, tensorboard, scipy, matplotlib, keras-applications, importlib-resources, gast, colorama, astor, tqdm, tensorflow, seaborn, opencv-python, lxml\n",
      "  Attempting uninstall: tensorflow-estimator\n",
      "    Found existing installation: tensorflow-estimator 2.6.0\n",
      "    Uninstalling tensorflow-estimator-2.6.0:\n",
      "      Successfully uninstalled tensorflow-estimator-2.6.0\n",
      "  Attempting uninstall: tensorboard\n",
      "    Found existing installation: tensorboard 2.6.0\n",
      "    Uninstalling tensorboard-2.6.0:\n",
      "      Successfully uninstalled tensorboard-2.6.0\n",
      "  Attempting uninstall: gast\n",
      "    Found existing installation: gast 0.4.0\n",
      "    Uninstalling gast-0.4.0:\n",
      "      Successfully uninstalled gast-0.4.0\n",
      "Successfully installed astor-0.8.1 colorama-0.4.4 cycler-0.11.0 gast-0.2.2 importlib-resources-5.4.0 keras-applications-1.0.8 kiwisolver-1.3.1 lxml-4.9.0 matplotlib-3.3.4 opencv-python-4.1.1.26 pyparsing-3.0.9 scipy-1.5.4 seaborn-0.11.2 tensorboard-2.0.2 tensorflow-2.0.1 tensorflow-estimator-2.0.1 tqdm-4.64.0\n",
      "All Requirements were installed!\n"
     ]
    }
   ],
   "source": [
    "#installing requirements\n",
    "!pip install -r requirements.txt\n",
    "from IPython.display import clear_output\n",
    "#clear_output()\n",
    "print(\"All Requirements were installed!\")"
   ]
  },
  {
   "cell_type": "markdown",
   "metadata": {
    "id": "ZTjCqb-LGzyz"
   },
   "source": [
    "Run this cell to download the weight files."
   ]
  },
  {
   "cell_type": "code",
   "execution_count": null,
   "metadata": {
    "collapsed": true,
    "id": "7FRQUS7RGzy2",
    "outputId": "a40af682-5ac1-46f0-de07-8bd222baff30"
   },
   "outputs": [
    {
     "name": "stdout",
     "output_type": "stream",
     "text": [
      "--2020-10-24 00:07:05--  https://pjreddie.com/media/files/yolov3.weights\n",
      "Resolviendo pjreddie.com (pjreddie.com)... 128.208.4.108\n",
      "Conectando con pjreddie.com (pjreddie.com)[128.208.4.108]:443... conectado.\n",
      "Petición HTTP enviada, esperando respuesta... 200 OK\n",
      "Longitud: 248007048 (237M) [application/octet-stream]\n",
      "Guardando como: “weights/yolov3.weights”\n",
      "\n",
      "weights/yolov3.weig  60%[===========>        ] 142.66M   196KB/s    eta 7m 38s ^C\n"
     ]
    }
   ],
   "source": [
    "#Downloading the weigts\n",
    "!wget https://pjreddie.com/media/files/yolov3.weights -O weights/yolov3.weights"
   ]
  },
  {
   "cell_type": "markdown",
   "metadata": {
    "id": "-01ZuGy22yVh"
   },
   "source": [
    "**Loading the weight files** "
   ]
  },
  {
   "cell_type": "code",
   "execution_count": 11,
   "metadata": {
    "colab": {
     "base_uri": "https://localhost:8080/",
     "height": 1000
    },
    "executionInfo": {
     "elapsed": 20515,
     "status": "ok",
     "timestamp": 1602300055624,
     "user": {
      "displayName": "orlin cury",
      "photoUrl": "https://lh3.googleusercontent.com/a-/AOh14GhEPutCVT53jKEChAkeVRi3cHs3kzJwLSboiQwAI9U=s64",
      "userId": "09148900503409813695"
     },
     "user_tz": 240
    },
    "id": "kdjlenpF28Bo",
    "outputId": "58e5b42e-c345-407c-d39f-1d795506d2fb"
   },
   "outputs": [
    {
     "name": "stdout",
     "output_type": "stream",
     "text": [
      "Model: \"yolov3\"\n",
      "__________________________________________________________________________________________________\n",
      "Layer (type)                    Output Shape         Param #     Connected to                     \n",
      "==================================================================================================\n",
      "input (InputLayer)              [(None, None, None,  0                                            \n",
      "__________________________________________________________________________________________________\n",
      "yolo_darknet (Model)            ((None, None, None,  40620640    input[0][0]                      \n",
      "__________________________________________________________________________________________________\n",
      "yolo_conv_0 (Model)             (None, None, None, 5 11024384    yolo_darknet[1][2]               \n",
      "__________________________________________________________________________________________________\n",
      "yolo_conv_1 (Model)             (None, None, None, 2 2957312     yolo_conv_0[1][0]                \n",
      "                                                                 yolo_darknet[1][1]               \n",
      "__________________________________________________________________________________________________\n",
      "yolo_conv_2 (Model)             (None, None, None, 1 741376      yolo_conv_1[1][0]                \n",
      "                                                                 yolo_darknet[1][0]               \n",
      "__________________________________________________________________________________________________\n",
      "yolo_output_0 (Model)           (None, None, None, 3 4984063     yolo_conv_0[1][0]                \n",
      "__________________________________________________________________________________________________\n",
      "yolo_output_1 (Model)           (None, None, None, 3 1312511     yolo_conv_1[1][0]                \n",
      "__________________________________________________________________________________________________\n",
      "Weights were loaded!yolo_output_2 (Model)           (None, None, None, 3 361471      yolo_conv_2[1][0]                \n",
      "__________________________________________________________________________________________________\n",
      "\n"
     ]
    },
    {
     "name": "stderr",
     "output_type": "stream",
     "text": [
      "2022-06-07 08:30:33.272065: I tensorflow/core/platform/cpu_feature_guard.cc:142] Your CPU supports instructions that this TensorFlow binary was not compiled to use: AVX2\n",
      "I0607 08:30:37.961820 13792 load_weights.py:19] model created\n",
      "I0607 08:30:38.008786 13792 utils.py:47] yolo_darknet/conv2d bn\n",
      "I0607 08:30:38.010823 13792 utils.py:47] yolo_darknet/conv2d_1 bn\n",
      "I0607 08:30:38.011821 13792 utils.py:47] yolo_darknet/conv2d_2 bn\n",
      "I0607 08:30:38.013822 13792 utils.py:47] yolo_darknet/conv2d_3 bn\n",
      "I0607 08:30:38.014823 13792 utils.py:47] yolo_darknet/conv2d_4 bn\n",
      "I0607 08:30:38.016822 13792 utils.py:47] yolo_darknet/conv2d_5 bn\n"
     ]
    },
    {
     "name": "stdout",
     "output_type": "stream",
     "text": [
      "yolo_boxes_0 (Lambda)           ((None, None, None,  0           yolo_output_0[1][0]              \n",
      "__________________________________________________________________________________________________\n",
      "yolo_boxes_1 (Lambda)           ((None, None, None,  0           yolo_output_1[1][0]              \n",
      "__________________________________________________________________________________________________\n",
      "yolo_boxes_2 (Lambda)           ((None, None, None,  0           yolo_output_2[1][0]              \n",
      "__________________________________________________________________________________________________\n",
      "yolo_nms (Lambda)               ((None, 100, 4), (No 0           yolo_boxes_0[0][0]               \n",
      "                                                                 yolo_boxes_0[0][1]               \n",
      "                                                                 yolo_boxes_0[0][2]               \n",
      "                                                                 yolo_boxes_1[0][0]               \n",
      "                                                                 yolo_boxes_1[0][1]               \n",
      "                                                                 yolo_boxes_1[0][2]               \n",
      "                                                                 yolo_boxes_2[0][0]               \n",
      "                                                                 yolo_boxes_2[0][1]               \n",
      "                                                                 yolo_boxes_2[0][2]               \n",
      "==================================================================================================\n",
      "Total params: 62,001,757\n",
      "Trainable params: 61,949,149\n",
      "Non-trainable params: 52,608\n",
      "__________________________________________________________________________________________________\n"
     ]
    },
    {
     "name": "stderr",
     "output_type": "stream",
     "text": [
      "I0607 08:30:38.018789 13792 utils.py:47] yolo_darknet/conv2d_6 bn\n",
      "I0607 08:30:38.021788 13792 utils.py:47] yolo_darknet/conv2d_7 bn\n",
      "I0607 08:30:38.023786 13792 utils.py:47] yolo_darknet/conv2d_8 bn\n",
      "I0607 08:30:38.025786 13792 utils.py:47] yolo_darknet/conv2d_9 bn\n",
      "I0607 08:30:38.027787 13792 utils.py:47] yolo_darknet/conv2d_10 bn\n",
      "I0607 08:30:38.029786 13792 utils.py:47] yolo_darknet/conv2d_11 bn\n",
      "I0607 08:30:38.031787 13792 utils.py:47] yolo_darknet/conv2d_12 bn\n",
      "I0607 08:30:38.034822 13792 utils.py:47] yolo_darknet/conv2d_13 bn\n",
      "I0607 08:30:38.036825 13792 utils.py:47] yolo_darknet/conv2d_14 bn\n",
      "I0607 08:30:38.038820 13792 utils.py:47] yolo_darknet/conv2d_15 bn\n",
      "I0607 08:30:38.040820 13792 utils.py:47] yolo_darknet/conv2d_16 bn\n",
      "I0607 08:30:38.042824 13792 utils.py:47] yolo_darknet/conv2d_17 bn\n",
      "I0607 08:30:38.045820 13792 utils.py:47] yolo_darknet/conv2d_18 bn\n",
      "I0607 08:30:38.046820 13792 utils.py:47] yolo_darknet/conv2d_19 bn\n",
      "I0607 08:30:38.049823 13792 utils.py:47] yolo_darknet/conv2d_20 bn\n",
      "I0607 08:30:38.051823 13792 utils.py:47] yolo_darknet/conv2d_21 bn\n",
      "I0607 08:30:38.053821 13792 utils.py:47] yolo_darknet/conv2d_22 bn\n",
      "I0607 08:30:38.055820 13792 utils.py:47] yolo_darknet/conv2d_23 bn\n",
      "I0607 08:30:38.058800 13792 utils.py:47] yolo_darknet/conv2d_24 bn\n",
      "I0607 08:30:38.061805 13792 utils.py:47] yolo_darknet/conv2d_25 bn\n",
      "I0607 08:30:38.065786 13792 utils.py:47] yolo_darknet/conv2d_26 bn\n",
      "I0607 08:30:38.086788 13792 utils.py:47] yolo_darknet/conv2d_27 bn\n",
      "I0607 08:30:38.089787 13792 utils.py:47] yolo_darknet/conv2d_28 bn\n",
      "I0607 08:30:38.099786 13792 utils.py:47] yolo_darknet/conv2d_29 bn\n",
      "I0607 08:30:38.106746 13792 utils.py:47] yolo_darknet/conv2d_30 bn\n",
      "I0607 08:30:38.114737 13792 utils.py:47] yolo_darknet/conv2d_31 bn\n",
      "I0607 08:30:38.117741 13792 utils.py:47] yolo_darknet/conv2d_32 bn\n",
      "I0607 08:30:38.125736 13792 utils.py:47] yolo_darknet/conv2d_33 bn\n",
      "I0607 08:30:38.128736 13792 utils.py:47] yolo_darknet/conv2d_34 bn\n",
      "I0607 08:30:38.135780 13792 utils.py:47] yolo_darknet/conv2d_35 bn\n",
      "I0607 08:30:38.139770 13792 utils.py:47] yolo_darknet/conv2d_36 bn\n",
      "I0607 08:30:38.145770 13792 utils.py:47] yolo_darknet/conv2d_37 bn\n",
      "I0607 08:30:38.147770 13792 utils.py:47] yolo_darknet/conv2d_38 bn\n",
      "I0607 08:30:38.157769 13792 utils.py:47] yolo_darknet/conv2d_39 bn\n",
      "I0607 08:30:38.159780 13792 utils.py:47] yolo_darknet/conv2d_40 bn\n",
      "I0607 08:30:38.165770 13792 utils.py:47] yolo_darknet/conv2d_41 bn\n",
      "I0607 08:30:38.170788 13792 utils.py:47] yolo_darknet/conv2d_42 bn\n",
      "I0607 08:30:38.177772 13792 utils.py:47] yolo_darknet/conv2d_43 bn\n",
      "I0607 08:30:38.224771 13792 utils.py:47] yolo_darknet/conv2d_44 bn\n",
      "I0607 08:30:38.230772 13792 utils.py:47] yolo_darknet/conv2d_45 bn\n",
      "I0607 08:30:38.274770 13792 utils.py:47] yolo_darknet/conv2d_46 bn\n",
      "I0607 08:30:38.280777 13792 utils.py:47] yolo_darknet/conv2d_47 bn\n",
      "I0607 08:30:38.322736 13792 utils.py:47] yolo_darknet/conv2d_48 bn\n",
      "I0607 08:30:38.328773 13792 utils.py:47] yolo_darknet/conv2d_49 bn\n",
      "I0607 08:30:38.369773 13792 utils.py:47] yolo_darknet/conv2d_50 bn\n",
      "I0607 08:30:38.375770 13792 utils.py:47] yolo_darknet/conv2d_51 bn\n",
      "I0607 08:30:38.411780 13792 utils.py:47] yolo_conv_0/conv2d_52 bn\n",
      "I0607 08:30:38.416778 13792 utils.py:47] yolo_conv_0/conv2d_53 bn\n",
      "I0607 08:30:38.453770 13792 utils.py:47] yolo_conv_0/conv2d_54 bn\n",
      "I0607 08:30:38.457770 13792 utils.py:47] yolo_conv_0/conv2d_55 bn\n",
      "I0607 08:30:38.494771 13792 utils.py:47] yolo_conv_0/conv2d_56 bn\n",
      "I0607 08:30:38.498774 13792 utils.py:47] yolo_output_0/conv2d_57 bn\n",
      "I0607 08:30:38.536771 13792 utils.py:47] yolo_output_0/conv2d_58 bias\n",
      "I0607 08:30:38.539774 13792 utils.py:47] yolo_conv_1/conv2d_59 bn\n",
      "I0607 08:30:38.540769 13792 utils.py:47] yolo_conv_1/conv2d_60 bn\n",
      "I0607 08:30:38.542769 13792 utils.py:47] yolo_conv_1/conv2d_61 bn\n",
      "I0607 08:30:38.547770 13792 utils.py:47] yolo_conv_1/conv2d_62 bn\n",
      "I0607 08:30:38.549768 13792 utils.py:47] yolo_conv_1/conv2d_63 bn\n",
      "I0607 08:30:38.554737 13792 utils.py:47] yolo_conv_1/conv2d_64 bn\n",
      "I0607 08:30:38.556770 13792 utils.py:47] yolo_output_1/conv2d_65 bn\n",
      "I0607 08:30:38.560770 13792 utils.py:47] yolo_output_1/conv2d_66 bias\n",
      "I0607 08:30:38.562738 13792 utils.py:47] yolo_conv_2/conv2d_67 bn\n",
      "I0607 08:30:38.563770 13792 utils.py:47] yolo_conv_2/conv2d_68 bn\n",
      "I0607 08:30:38.564770 13792 utils.py:47] yolo_conv_2/conv2d_69 bn\n",
      "I0607 08:30:38.566771 13792 utils.py:47] yolo_conv_2/conv2d_70 bn\n",
      "I0607 08:30:38.567770 13792 utils.py:47] yolo_conv_2/conv2d_71 bn\n",
      "I0607 08:30:38.568772 13792 utils.py:47] yolo_conv_2/conv2d_72 bn\n",
      "I0607 08:30:38.569771 13792 utils.py:47] yolo_output_2/conv2d_73 bn\n",
      "I0607 08:30:38.571770 13792 utils.py:47] yolo_output_2/conv2d_74 bias\n",
      "I0607 08:30:38.572775 13792 load_weights.py:22] weights loaded\n",
      "I0607 08:30:38.950910 13792 load_weights.py:26] sanity check passed\n",
      "I0607 08:30:42.088065 13792 load_weights.py:29] weights saved\n"
     ]
    }
   ],
   "source": [
    "# yolov3\n",
    "!python load_weights.py\n",
    "#clear_output()\n",
    "print(\"Weights were loaded!\")"
   ]
  },
  {
   "cell_type": "markdown",
   "metadata": {
    "id": "P9Sc0WV63YXY"
   },
   "source": [
    "#**Runing the tracker**\n",
    "You can run the tracker setting the video input and the output path for the resulting video.\n",
    "\n",
    "Note: for this case the resulting video is allways going to be a .avi file.\n",
    "\n",
    "Everytime the tracker is excecuted it is going to create/update a \".json\" file containing:\n",
    "\n",
    "\n",
    "*   Frame: the number of frame where the detection is made from.\n",
    "*   Track_id: an identification given to every object detected in the video.\n",
    "*   Class: the class of object detected.\n",
    "*   Center: this is going to be a set of coordinates x and y pointing to the center of the object detected in every case.\n",
    "*   Detection_box: this is a set of tow pairs of coordinates x and y, pointing to the starting and ending point for the rectangle drawned around every detection, this is going to be the next way (start_x, start_y,end_x,endy).\n",
    "\n",
    "\n",
    "\n",
    "\n",
    "\n",
    "\n"
   ]
  },
  {
   "cell_type": "code",
   "execution_count": 14,
   "metadata": {
    "colab": {
     "base_uri": "https://localhost:8080/",
     "height": 442
    },
    "executionInfo": {
     "elapsed": 456566,
     "status": "ok",
     "timestamp": 1602305323621,
     "user": {
      "displayName": "orlin cury",
      "photoUrl": "https://lh3.googleusercontent.com/a-/AOh14GhEPutCVT53jKEChAkeVRi3cHs3kzJwLSboiQwAI9U=s64",
      "userId": "09148900503409813695"
     },
     "user_tz": 240
    },
    "id": "Of1vf_A13mal",
    "outputId": "063fec84-9df2-45ed-b336-7fec40431a42"
   },
   "outputs": [
    {
     "name": "stdout",
     "output_type": "stream",
     "text": [
      "Work Done!\n"
     ]
    },
    {
     "name": "stderr",
     "output_type": "stream",
     "text": [
      "2022-06-07 08:35:08.427341: I tensorflow/core/platform/cpu_feature_guard.cc:142] Your CPU supports instructions that this TensorFlow binary was not compiled to use: AVX2\n",
      "I0607 08:35:13.485705 16996 object_tracker.py:56] weights loaded\n",
      "I0607 08:35:13.486704 16996 object_tracker.py:59] classes loaded\n",
      "W0607 08:37:46.547645 16996 object_tracker.py:85] Empty Frame\n",
      "W0607 08:37:46.655645 16996 object_tracker.py:85] Empty Frame\n",
      "W0607 08:37:46.764647 16996 object_tracker.py:85] Empty Frame\n"
     ]
    },
    {
     "name": "stdout",
     "output_type": "stream",
     "text": [
      "Work Done!\n",
      "\n",
      "        Video object tracking is done, go to /data/video\n",
      "        to see the resulting video...\n",
      "\n"
     ]
    },
    {
     "name": "stderr",
     "output_type": "stream",
     "text": [
      "2022-06-07 08:36:08.217010: I tensorflow/core/platform/cpu_feature_guard.cc:142] Your CPU supports instructions that this TensorFlow binary was not compiled to use: AVX2\n",
      "I0607 08:36:19.214129 17660 object_tracker.py:56] weights loaded\n",
      "I0607 08:36:19.215129 17660 object_tracker.py:59] classes loaded\n",
      "W0607 08:38:51.407616 17660 object_tracker.py:85] Empty Frame\n",
      "W0607 08:38:51.518529 17660 object_tracker.py:85] Empty Frame\n",
      "W0607 08:38:51.626073 17660 object_tracker.py:85] Empty Frame\n"
     ]
    }
   ],
   "source": [
    "# yolov3 on video\n",
    "!python object_tracker.py --video ./data/video/test.mp4 --output ./data/video/results.avi\n",
    "#clear_output()\n",
    "print('''\n",
    "        Video object tracking is done, go to /data/video\n",
    "        to see the resulting video...\n",
    "''')"
   ]
  }
 ],
 "metadata": {
  "colab": {
   "collapsed_sections": [],
   "name": "Implementation_Object_tracker.ipynb",
   "provenance": [],
   "toc_visible": true
  },
  "kernelspec": {
   "display_name": "Python 3 (ipykernel)",
   "language": "python",
   "name": "python3"
  },
  "language_info": {
   "codemirror_mode": {
    "name": "ipython",
    "version": 3
   },
   "file_extension": ".py",
   "mimetype": "text/x-python",
   "name": "python",
   "nbconvert_exporter": "python",
   "pygments_lexer": "ipython3",
   "version": "3.9.5"
  }
 },
 "nbformat": 4,
 "nbformat_minor": 1
}
